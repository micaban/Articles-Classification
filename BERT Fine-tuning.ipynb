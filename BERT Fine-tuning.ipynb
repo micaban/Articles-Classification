{
 "cells": [
  {
   "cell_type": "code",
   "execution_count": 1,
   "id": "4028ba0e",
   "metadata": {},
   "outputs": [],
   "source": [
    "#standard library imports\n",
    "import datetime\n",
    "import itertools\n",
    "import os\n",
    "import random\n",
    "import time\n",
    "import warnings\n",
    "\n",
    "#3rd party imports\n",
    "import matplotlib.pyplot as plt\n",
    "import numpy as np\n",
    "import pandas as pd\n",
    "import seaborn as sns\n",
    "import torch\n",
    "\n",
    "import nltk\n",
    "from nltk.stem import PorterStemmer\n",
    "\n",
    "#local app & library specific imports\n",
    "from scipy.special import softmax\n",
    "from sklearn.metrics import f1_score, precision_recall_fscore_support #classification_report, confusion_matrix, roc_auc_score\n",
    "from sklearn.preprocessing import LabelEncoder\n",
    "from torch.utils.data import DataLoader, random_split, RandomSampler, SequentialSampler, TensorDataset\n",
    "from transformers import AdamW, BertConfig, get_linear_schedule_with_warmup\n",
    "from sklearn.metrics import classification_report, confusion_matrix"
   ]
  },
  {
   "cell_type": "code",
   "execution_count": 2,
   "id": "cd001d22",
   "metadata": {},
   "outputs": [
    {
     "name": "stdout",
     "output_type": "stream",
     "text": [
      "There are 1 GPU(s) available.\n",
      "We will use the GPU: NVIDIA GeForce GTX 1060 6GB\n"
     ]
    }
   ],
   "source": [
    "#If there's a GPU available...\n",
    "if torch.cuda.is_available():    \n",
    "\n",
    "    # Tell PyTorch to use the GPU.    \n",
    "    device = torch.device(\"cuda\")\n",
    "\n",
    "    print('There are %d GPU(s) available.' % torch.cuda.device_count())\n",
    "\n",
    "    print('We will use the GPU:', torch.cuda.get_device_name(0))\n",
    "\n",
    "# If not...\n",
    "else:\n",
    "    print('No GPU available, using the CPU instead.')\n",
    "    device = torch.device(\"cpu\")\n",
    "device = torch.device(\"cpu\")"
   ]
  },
  {
   "cell_type": "code",
   "execution_count": 3,
   "id": "3454a5d4",
   "metadata": {},
   "outputs": [
    {
     "name": "stderr",
     "output_type": "stream",
     "text": [
      "75it [00:00, 29065.21it/s]\n"
     ]
    }
   ],
   "source": [
    "import pandas as pd\n",
    "from tqdm import tqdm\n",
    "import os\n",
    "import sys\n",
    "from sklearn.feature_extraction.text import CountVectorizer\n",
    "from sklearn.pipeline import Pipeline\n",
    "from sklearn import svm\n",
    "from sklearn.metrics import classification_report as report\n",
    "from sklearn.feature_extraction.text import CountVectorizer\n",
    "import argparse\n",
    "text = []\n",
    "input_folder='./data/en/train-articles-subtask-1/others'\n",
    "for fil in tqdm(filter(lambda x: x.endswith('.txt'), os.listdir(input_folder))):\n",
    "    #print(input_folder+'/' +fil)\n",
    "    iD, txt = fil[7:].split('.')[0], open(input_folder+'/' +fil, 'r', encoding='utf-8',errors='ignore').read() \n",
    "    text.append((iD, txt))\n",
    "\n",
    "df_text = pd.DataFrame(text, columns=['id','text']).set_index('id')"
   ]
  },
  {
   "cell_type": "code",
   "execution_count": 4,
   "id": "15a1340f",
   "metadata": {},
   "outputs": [
    {
     "data": {
      "text/html": [
       "<div>\n",
       "<style scoped>\n",
       "    .dataframe tbody tr th:only-of-type {\n",
       "        vertical-align: middle;\n",
       "    }\n",
       "\n",
       "    .dataframe tbody tr th {\n",
       "        vertical-align: top;\n",
       "    }\n",
       "\n",
       "    .dataframe thead th {\n",
       "        text-align: right;\n",
       "    }\n",
       "</style>\n",
       "<table border=\"1\" class=\"dataframe\">\n",
       "  <thead>\n",
       "    <tr style=\"text-align: right;\">\n",
       "      <th></th>\n",
       "      <th>text</th>\n",
       "    </tr>\n",
       "    <tr>\n",
       "      <th>id</th>\n",
       "      <th></th>\n",
       "    </tr>\n",
       "  </thead>\n",
       "  <tbody>\n",
       "    <tr>\n",
       "      <th></th>\n",
       "      <td>NEW YORK (The Borowitz Report)A once-prominent...</td>\n",
       "    </tr>\n",
       "    <tr>\n",
       "      <th></th>\n",
       "      <td>LAS VEGAS (The Borowitz Report)In what is bein...</td>\n",
       "    </tr>\n",
       "    <tr>\n",
       "      <th></th>\n",
       "      <td>WASHINGTONEncouraging the group of visitors th...</td>\n",
       "    </tr>\n",
       "    <tr>\n",
       "      <th></th>\n",
       "      <td>RALEIGH (The Borowitz Report)Delivering her cl...</td>\n",
       "    </tr>\n",
       "    <tr>\n",
       "      <th></th>\n",
       "      <td>WASHINGTON (The Borowitz Report)Calling his ac...</td>\n",
       "    </tr>\n",
       "    <tr>\n",
       "      <th>...</th>\n",
       "      <td>...</td>\n",
       "    </tr>\n",
       "    <tr>\n",
       "      <th>t</th>\n",
       "      <td>WASHINGTONIn an effort to honor the sweet-ass ...</td>\n",
       "    </tr>\n",
       "    <tr>\n",
       "      <th>t</th>\n",
       "      <td>AMES, IOWA (The Borowitz Report)Presidential c...</td>\n",
       "    </tr>\n",
       "    <tr>\n",
       "      <th></th>\n",
       "      <td>OTTAWA  After sustained criticism over several...</td>\n",
       "    </tr>\n",
       "    <tr>\n",
       "      <th>t</th>\n",
       "      <td>CLEMSON, S.C. (SatireWire.com)  Donald Trumps ...</td>\n",
       "    </tr>\n",
       "    <tr>\n",
       "      <th></th>\n",
       "      <td>Bengaluru: Recently one Karnataka minister was...</td>\n",
       "    </tr>\n",
       "  </tbody>\n",
       "</table>\n",
       "<p>75 rows × 1 columns</p>\n",
       "</div>"
      ],
      "text/plain": [
       "                                                 text\n",
       "id                                                   \n",
       "    NEW YORK (The Borowitz Report)A once-prominent...\n",
       "    LAS VEGAS (The Borowitz Report)In what is bein...\n",
       "    WASHINGTONEncouraging the group of visitors th...\n",
       "    RALEIGH (The Borowitz Report)Delivering her cl...\n",
       "    WASHINGTON (The Borowitz Report)Calling his ac...\n",
       "..                                                ...\n",
       "t   WASHINGTONIn an effort to honor the sweet-ass ...\n",
       "t   AMES, IOWA (The Borowitz Report)Presidential c...\n",
       "    OTTAWA  After sustained criticism over several...\n",
       "t   CLEMSON, S.C. (SatireWire.com)  Donald Trumps ...\n",
       "    Bengaluru: Recently one Karnataka minister was...\n",
       "\n",
       "[75 rows x 1 columns]"
      ]
     },
     "execution_count": 4,
     "metadata": {},
     "output_type": "execute_result"
    }
   ],
   "source": [
    "df_text"
   ]
  },
  {
   "cell_type": "code",
   "execution_count": 5,
   "id": "2aa56563",
   "metadata": {},
   "outputs": [
    {
     "name": "stdout",
     "output_type": "stream",
     "text": [
      "Added en\n",
      "it Total: 52\n",
      "485\n",
      "fr Total: 54\n",
      "539\n",
      "ge Total: 46\n",
      "585\n",
      "po Total: 40\n",
      "625\n",
      "Number of training articles: 625\n",
      "\n"
     ]
    },
    {
     "name": "stderr",
     "output_type": "stream",
     "text": [
      "/tmp/ipykernel_191816/2069905211.py:28: FutureWarning: The frame.append method is deprecated and will be removed from pandas in a future version. Use pandas.concat instead.\n",
      "  train_df=train_df.append(train_df2)\n",
      "/tmp/ipykernel_191816/2069905211.py:28: FutureWarning: The frame.append method is deprecated and will be removed from pandas in a future version. Use pandas.concat instead.\n",
      "  train_df=train_df.append(train_df2)\n",
      "/tmp/ipykernel_191816/2069905211.py:28: FutureWarning: The frame.append method is deprecated and will be removed from pandas in a future version. Use pandas.concat instead.\n",
      "  train_df=train_df.append(train_df2)\n",
      "/tmp/ipykernel_191816/2069905211.py:28: FutureWarning: The frame.append method is deprecated and will be removed from pandas in a future version. Use pandas.concat instead.\n",
      "  train_df=train_df.append(train_df2)\n"
     ]
    }
   ],
   "source": [
    "train_df = pd.read_csv(\n",
    "    \"data/en/train_data_1.tsv\",\n",
    "    sep = \"\\t\",\n",
    "    header = 0,\n",
    "    index_col = 0\n",
    ")\n",
    "\n",
    "\n",
    "langs=['en','it','fr','ge','po']#,'ru']\n",
    "target_lang='en'\n",
    "for i in langs:\n",
    "    if i ==target_lang:\n",
    "        train_df = pd.read_csv(\n",
    "            \"data/en/train_data_1.tsv\",\n",
    "            sep = \"\\t\",\n",
    "            header = 0,\n",
    "            index_col = 0\n",
    "        )\n",
    "        print('Added en')\n",
    "    else:\n",
    "        train_df2 = pd.read_csv(\n",
    "            'data/en/train_data_extra'+i+'.tsv',\n",
    "            sep = \"\\t\",\n",
    "            header = 0,\n",
    "            index_col = 0\n",
    "        )\n",
    "        print(i, 'Total:',len(train_df2))\n",
    "        train_df=train_df.append(train_df2)\n",
    "        print(len(train_df))\n",
    "\n",
    "\n",
    "# Report the number of sentences.\n",
    "print('Number of training articles: {:,}\\n'.format(train_df.shape[0]))"
   ]
  },
  {
   "cell_type": "code",
   "execution_count": 6,
   "id": "e9096af2",
   "metadata": {},
   "outputs": [
    {
     "data": {
      "text/html": [
       "<div>\n",
       "<style scoped>\n",
       "    .dataframe tbody tr th:only-of-type {\n",
       "        vertical-align: middle;\n",
       "    }\n",
       "\n",
       "    .dataframe tbody tr th {\n",
       "        vertical-align: top;\n",
       "    }\n",
       "\n",
       "    .dataframe thead th {\n",
       "        text-align: right;\n",
       "    }\n",
       "</style>\n",
       "<table border=\"1\" class=\"dataframe\">\n",
       "  <thead>\n",
       "    <tr style=\"text-align: right;\">\n",
       "      <th></th>\n",
       "      <th>text</th>\n",
       "      <th>type</th>\n",
       "    </tr>\n",
       "    <tr>\n",
       "      <th>id</th>\n",
       "      <th></th>\n",
       "      <th></th>\n",
       "    </tr>\n",
       "  </thead>\n",
       "  <tbody>\n",
       "    <tr>\n",
       "      <th>833042063</th>\n",
       "      <td>Chelsea Handler Admits She’s ‘Very Sexually At...</td>\n",
       "      <td>satire</td>\n",
       "    </tr>\n",
       "    <tr>\n",
       "      <th>832959523</th>\n",
       "      <td>How Theresa May Botched\\n\\nThose were the time...</td>\n",
       "      <td>satire</td>\n",
       "    </tr>\n",
       "    <tr>\n",
       "      <th>833039623</th>\n",
       "      <td>Robert Mueller III Rests His Case—Dems NEVER W...</td>\n",
       "      <td>satire</td>\n",
       "    </tr>\n",
       "    <tr>\n",
       "      <th>833032367</th>\n",
       "      <td>Robert Mueller Not Recommending Any More Indic...</td>\n",
       "      <td>satire</td>\n",
       "    </tr>\n",
       "    <tr>\n",
       "      <th>814777937</th>\n",
       "      <td>The Far Right Is Trying to Co-opt the Yellow V...</td>\n",
       "      <td>satire</td>\n",
       "    </tr>\n",
       "    <tr>\n",
       "      <th>...</th>\n",
       "      <td>...</td>\n",
       "      <td>...</td>\n",
       "    </tr>\n",
       "    <tr>\n",
       "      <th>25181</th>\n",
       "      <td>Side effects after Novavax vaccine against Cov...</td>\n",
       "      <td>reporting</td>\n",
       "    </tr>\n",
       "    <tr>\n",
       "      <th>25164</th>\n",
       "      <td>The Together party asks the government about t...</td>\n",
       "      <td>reporting</td>\n",
       "    </tr>\n",
       "    <tr>\n",
       "      <th>25187</th>\n",
       "      <td>President Andrzej Duda signed the Act on the c...</td>\n",
       "      <td>reporting</td>\n",
       "    </tr>\n",
       "    <tr>\n",
       "      <th>25163</th>\n",
       "      <td>Niedzielski: The infectiousness of the monkey ...</td>\n",
       "      <td>reporting</td>\n",
       "    </tr>\n",
       "    <tr>\n",
       "      <th>25157</th>\n",
       "      <td>Ukrainians constitute 8% of the Polish populat...</td>\n",
       "      <td>reporting</td>\n",
       "    </tr>\n",
       "  </tbody>\n",
       "</table>\n",
       "<p>625 rows × 2 columns</p>\n",
       "</div>"
      ],
      "text/plain": [
       "                                                        text       type\n",
       "id                                                                     \n",
       "833042063  Chelsea Handler Admits She’s ‘Very Sexually At...     satire\n",
       "832959523  How Theresa May Botched\\n\\nThose were the time...     satire\n",
       "833039623  Robert Mueller III Rests His Case—Dems NEVER W...     satire\n",
       "833032367  Robert Mueller Not Recommending Any More Indic...     satire\n",
       "814777937  The Far Right Is Trying to Co-opt the Yellow V...     satire\n",
       "...                                                      ...        ...\n",
       "25181      Side effects after Novavax vaccine against Cov...  reporting\n",
       "25164      The Together party asks the government about t...  reporting\n",
       "25187      President Andrzej Duda signed the Act on the c...  reporting\n",
       "25163      Niedzielski: The infectiousness of the monkey ...  reporting\n",
       "25157      Ukrainians constitute 8% of the Polish populat...  reporting\n",
       "\n",
       "[625 rows x 2 columns]"
      ]
     },
     "execution_count": 6,
     "metadata": {},
     "output_type": "execute_result"
    }
   ],
   "source": [
    "train_df"
   ]
  },
  {
   "cell_type": "code",
   "execution_count": 7,
   "id": "dae5657e",
   "metadata": {},
   "outputs": [
    {
     "name": "stderr",
     "output_type": "stream",
     "text": [
      "[nltk_data] Downloading package punkt to\n",
      "[nltk_data]     /home/osservatorio/nltk_data...\n",
      "[nltk_data]   Package punkt is already up-to-date!\n"
     ]
    }
   ],
   "source": [
    "import re\n",
    "import nltk\n",
    "nltk.download('punkt')\n",
    "from nltk import word_tokenize\n",
    "def clean_text(sentence):\n",
    "    '''\n",
    "        function to clean content column, make it ready for transformation and modeling\n",
    "    '''\n",
    "    sentence = sentence.lower()                #convert text to lower-case\n",
    "    #sentence = re.sub('â€˜','',sentence)    # remove the text â€˜ which appears to occur flequently\n",
    "    sentence = re.sub('[‘’“”…,\":-;]', '', sentence) # remove punctuation\n",
    "    sentence = re.sub('[()@.]', '', sentence)  #remove parentheses\n",
    "    #sentence = re.sub(\"[^a-zA-Z]\",\" \",sentence) #remove numbers and keep text/alphabet only\n",
    "    sentence = word_tokenize(sentence)      # remove repeated characters (tanzaniaaaaaaaa to tanzania)\n",
    "    \n",
    "    return ' '.join(sentence)"
   ]
  },
  {
   "cell_type": "code",
   "execution_count": 8,
   "id": "aa42c338",
   "metadata": {},
   "outputs": [],
   "source": [
    "train_df['text'] = train_df['text'].apply(clean_text)   "
   ]
  },
  {
   "cell_type": "code",
   "execution_count": 9,
   "id": "ada671cd",
   "metadata": {},
   "outputs": [
    {
     "data": {
      "image/png": "[encoded data removed]",
      "text/plain": [
       "<Figure size 640x480 with 1 Axes>"
      ]
     },
     "metadata": {},
     "output_type": "display_data"
    }
   ],
   "source": [
    "train_df.groupby('type').type.value_counts().plot(kind = \"bar\", color = [\"pink\", \"orange\", \"red\"])\n",
    "plt.show()"
   ]
  },
  {
   "cell_type": "code",
   "execution_count": 19,
   "id": "fd8abf09",
   "metadata": {},
   "outputs": [],
   "source": [
    "def get_split(text1):\n",
    "  len_t=250\n",
    "  l_total = []\n",
    "  l_parcial = []\n",
    "  count=0\n",
    "  if len(text1.split())//len_t >0:\n",
    "    count += 1    \n",
    "    n = len(text1.split())//len_t\n",
    "  else: \n",
    "    n = 1\n",
    "  for w in range(n):\n",
    "    if w == 0:\n",
    "      l_parcial = text1.split()[:len_t]\n",
    "      l_total.append(\" \".join(l_parcial))\n",
    "    else:\n",
    "      l_parcial = text1.split()[w*len_t:w*len_t + len_t]\n",
    "      l_total.append(\" \".join(l_parcial))\n",
    "  return l_total\n",
    "\n",
    "splited=train_df['text'].apply(get_split).to_frame()"
   ]
  },
  {
   "cell_type": "code",
   "execution_count": 20,
   "id": "39f0fe63",
   "metadata": {},
   "outputs": [],
   "source": [
    "splited=train_df['text'].apply(get_split).to_frame()"
   ]
  },
  {
   "cell_type": "code",
   "execution_count": 21,
   "id": "05844437",
   "metadata": {},
   "outputs": [],
   "source": [
    "train_df['text_splited']=splited['text']"
   ]
  },
  {
   "cell_type": "code",
   "execution_count": 22,
   "id": "09aa3da8",
   "metadata": {},
   "outputs": [
    {
     "data": {
      "text/html": [
       "<div>\n",
       "<style scoped>\n",
       "    .dataframe tbody tr th:only-of-type {\n",
       "        vertical-align: middle;\n",
       "    }\n",
       "\n",
       "    .dataframe tbody tr th {\n",
       "        vertical-align: top;\n",
       "    }\n",
       "\n",
       "    .dataframe thead th {\n",
       "        text-align: right;\n",
       "    }\n",
       "</style>\n",
       "<table border=\"1\" class=\"dataframe\">\n",
       "  <thead>\n",
       "    <tr style=\"text-align: right;\">\n",
       "      <th></th>\n",
       "      <th>text</th>\n",
       "      <th>type</th>\n",
       "      <th>text_trunc</th>\n",
       "      <th>text_splited</th>\n",
       "      <th>split</th>\n",
       "      <th>article_id</th>\n",
       "    </tr>\n",
       "    <tr>\n",
       "      <th>id</th>\n",
       "      <th></th>\n",
       "      <th></th>\n",
       "      <th></th>\n",
       "      <th></th>\n",
       "      <th></th>\n",
       "      <th></th>\n",
       "    </tr>\n",
       "  </thead>\n",
       "  <tbody>\n",
       "    <tr>\n",
       "      <th>833042063</th>\n",
       "      <td>chelsea handler admits shes very sexually attr...</td>\n",
       "      <td>satire</td>\n",
       "      <td>chelsea handler admits shes very sexually attr...</td>\n",
       "      <td>[chelsea handler admits shes very sexually att...</td>\n",
       "      <td>1</td>\n",
       "      <td>833042063</td>\n",
       "    </tr>\n",
       "    <tr>\n",
       "      <th>832959523</th>\n",
       "      <td>how theresa may botched those were the times t...</td>\n",
       "      <td>satire</td>\n",
       "      <td>how theresa may botched those were the times t...</td>\n",
       "      <td>[how theresa may botched those were the times ...</td>\n",
       "      <td>3</td>\n",
       "      <td>832959523</td>\n",
       "    </tr>\n",
       "    <tr>\n",
       "      <th>833039623</th>\n",
       "      <td>robert mueller iii rests his case—dems never w...</td>\n",
       "      <td>satire</td>\n",
       "      <td>robert mueller iii rests his case—dems never w...</td>\n",
       "      <td>[robert mueller iii rests his case—dems never ...</td>\n",
       "      <td>4</td>\n",
       "      <td>833039623</td>\n",
       "    </tr>\n",
       "    <tr>\n",
       "      <th>833032367</th>\n",
       "      <td>robert mueller not recommending any more indic...</td>\n",
       "      <td>satire</td>\n",
       "      <td>robert mueller not recommending any more indic...</td>\n",
       "      <td>[robert mueller not recommending any more indi...</td>\n",
       "      <td>2</td>\n",
       "      <td>833032367</td>\n",
       "    </tr>\n",
       "    <tr>\n",
       "      <th>814777937</th>\n",
       "      <td>the far right is trying to co-opt the yellow v...</td>\n",
       "      <td>satire</td>\n",
       "      <td>the far right is trying to co-opt the yellow v...</td>\n",
       "      <td>[the far right is trying to co-opt the yellow ...</td>\n",
       "      <td>3</td>\n",
       "      <td>814777937</td>\n",
       "    </tr>\n",
       "    <tr>\n",
       "      <th>...</th>\n",
       "      <td>...</td>\n",
       "      <td>...</td>\n",
       "      <td>...</td>\n",
       "      <td>...</td>\n",
       "      <td>...</td>\n",
       "      <td>...</td>\n",
       "    </tr>\n",
       "    <tr>\n",
       "      <th>25181</th>\n",
       "      <td>side effects after novavax vaccine against cov...</td>\n",
       "      <td>reporting</td>\n",
       "      <td>side effects after novavax vaccine against cov...</td>\n",
       "      <td>[side effects after novavax vaccine against co...</td>\n",
       "      <td>1</td>\n",
       "      <td>25181</td>\n",
       "    </tr>\n",
       "    <tr>\n",
       "      <th>25164</th>\n",
       "      <td>the together party asks the government about t...</td>\n",
       "      <td>reporting</td>\n",
       "      <td>the together party asks the government about t...</td>\n",
       "      <td>[the together party asks the government about ...</td>\n",
       "      <td>1</td>\n",
       "      <td>25164</td>\n",
       "    </tr>\n",
       "    <tr>\n",
       "      <th>25187</th>\n",
       "      <td>president andrzej duda signed the act on the c...</td>\n",
       "      <td>reporting</td>\n",
       "      <td>president andrzej duda signed the act on the c...</td>\n",
       "      <td>[president andrzej duda signed the act on the ...</td>\n",
       "      <td>1</td>\n",
       "      <td>25187</td>\n",
       "    </tr>\n",
       "    <tr>\n",
       "      <th>25163</th>\n",
       "      <td>niedzielski the infectiousness of the monkey s...</td>\n",
       "      <td>reporting</td>\n",
       "      <td>niedzielski the infectiousness of the monkey s...</td>\n",
       "      <td>[niedzielski the infectiousness of the monkey ...</td>\n",
       "      <td>1</td>\n",
       "      <td>25163</td>\n",
       "    </tr>\n",
       "    <tr>\n",
       "      <th>25157</th>\n",
       "      <td>ukrainians constitute 8 % of the polish popula...</td>\n",
       "      <td>reporting</td>\n",
       "      <td>ukrainians constitute 8 % of the polish popula...</td>\n",
       "      <td>[ukrainians constitute 8 % of the polish popul...</td>\n",
       "      <td>1</td>\n",
       "      <td>25157</td>\n",
       "    </tr>\n",
       "  </tbody>\n",
       "</table>\n",
       "<p>625 rows × 6 columns</p>\n",
       "</div>"
      ],
      "text/plain": [
       "                                                        text       type  \\\n",
       "id                                                                        \n",
       "833042063  chelsea handler admits shes very sexually attr...     satire   \n",
       "832959523  how theresa may botched those were the times t...     satire   \n",
       "833039623  robert mueller iii rests his case—dems never w...     satire   \n",
       "833032367  robert mueller not recommending any more indic...     satire   \n",
       "814777937  the far right is trying to co-opt the yellow v...     satire   \n",
       "...                                                      ...        ...   \n",
       "25181      side effects after novavax vaccine against cov...  reporting   \n",
       "25164      the together party asks the government about t...  reporting   \n",
       "25187      president andrzej duda signed the act on the c...  reporting   \n",
       "25163      niedzielski the infectiousness of the monkey s...  reporting   \n",
       "25157      ukrainians constitute 8 % of the polish popula...  reporting   \n",
       "\n",
       "                                                  text_trunc  \\\n",
       "id                                                             \n",
       "833042063  chelsea handler admits shes very sexually attr...   \n",
       "832959523  how theresa may botched those were the times t...   \n",
       "833039623  robert mueller iii rests his case—dems never w...   \n",
       "833032367  robert mueller not recommending any more indic...   \n",
       "814777937  the far right is trying to co-opt the yellow v...   \n",
       "...                                                      ...   \n",
       "25181      side effects after novavax vaccine against cov...   \n",
       "25164      the together party asks the government about t...   \n",
       "25187      president andrzej duda signed the act on the c...   \n",
       "25163      niedzielski the infectiousness of the monkey s...   \n",
       "25157      ukrainians constitute 8 % of the polish popula...   \n",
       "\n",
       "                                                text_splited  split  \\\n",
       "id                                                                    \n",
       "833042063  [chelsea handler admits shes very sexually att...      1   \n",
       "832959523  [how theresa may botched those were the times ...      3   \n",
       "833039623  [robert mueller iii rests his case—dems never ...      4   \n",
       "833032367  [robert mueller not recommending any more indi...      2   \n",
       "814777937  [the far right is trying to co-opt the yellow ...      3   \n",
       "...                                                      ...    ...   \n",
       "25181      [side effects after novavax vaccine against co...      1   \n",
       "25164      [the together party asks the government about ...      1   \n",
       "25187      [president andrzej duda signed the act on the ...      1   \n",
       "25163      [niedzielski the infectiousness of the monkey ...      1   \n",
       "25157      [ukrainians constitute 8 % of the polish popul...      1   \n",
       "\n",
       "           article_id  \n",
       "id                     \n",
       "833042063   833042063  \n",
       "832959523   832959523  \n",
       "833039623   833039623  \n",
       "833032367   833032367  \n",
       "814777937   814777937  \n",
       "...               ...  \n",
       "25181           25181  \n",
       "25164           25164  \n",
       "25187           25187  \n",
       "25163           25163  \n",
       "25157           25157  \n",
       "\n",
       "[625 rows x 6 columns]"
      ]
     },
     "execution_count": 22,
     "metadata": {},
     "output_type": "execute_result"
    }
   ],
   "source": [
    "train_df['split']=train_df['text_splited'].str.len()\n",
    "train_df['article_id'] = train_df.index\n",
    "train_df"
   ]
  },
  {
   "cell_type": "code",
   "execution_count": 23,
   "id": "214cca3a",
   "metadata": {},
   "outputs": [],
   "source": [
    "df1 = train_df#[train_df['type']!='opinion']\n",
    "for index,row in df1.iterrows():\n",
    "    for w in range(row['split']):\n",
    "            row['text']=row['text_splited'][w]\n",
    "            train_df= pd.concat([train_df, row.to_frame().T], axis=0, ignore_index=True)"
   ]
  },
  {
   "cell_type": "code",
   "execution_count": 24,
   "id": "69ec273b",
   "metadata": {},
   "outputs": [
    {
     "data": {
      "text/plain": [
       "157"
      ]
     },
     "execution_count": 24,
     "metadata": {},
     "output_type": "execute_result"
    }
   ],
   "source": [
    "len(train_df[train_df['type']=='satire'])"
   ]
  },
  {
   "cell_type": "code",
   "execution_count": 58,
   "id": "d3e3f7ec",
   "metadata": {},
   "outputs": [
    {
     "data": {
      "image/png": "[encoded data removed]",
      "text/plain": [
       "<Figure size 640x480 with 1 Axes>"
      ]
     },
     "metadata": {},
     "output_type": "display_data"
    }
   ],
   "source": [
    "train_df.groupby('type').type.value_counts().plot(kind = \"bar\", color = [\"pink\", \"orange\", \"red\"])\n",
    "plt.show()"
   ]
  },
  {
   "cell_type": "code",
   "execution_count": 60,
   "id": "d58ed4e0",
   "metadata": {},
   "outputs": [],
   "source": [
    "def balance_pandas(data):\n",
    "    lst = [data]\n",
    "    max_size = data['type'].value_counts().max()\n",
    "    for class_index, group in data.groupby('type'):\n",
    "        lst.append(group.sample(max_size - len(group), replace=True))\n",
    "    return pd.concat(lst)\n",
    "train_df = balance_pandas(train_df)"
   ]
  },
  {
   "cell_type": "code",
   "execution_count": 61,
   "id": "6415808e",
   "metadata": {},
   "outputs": [
    {
     "data": {
      "image/png": "[encoded data removed]",
      "text/plain": [
       "<Figure size 640x480 with 1 Axes>"
      ]
     },
     "metadata": {},
     "output_type": "display_data"
    }
   ],
   "source": [
    "train_df.groupby('type').type.value_counts().plot(kind = \"bar\", color = [\"pink\", \"orange\", \"red\"])\n",
    "plt.show()"
   ]
  },
  {
   "cell_type": "code",
   "execution_count": 15,
   "id": "dc5d8dfd",
   "metadata": {},
   "outputs": [
    {
     "name": "stderr",
     "output_type": "stream",
     "text": [
      "/tmp/ipykernel_390909/2111642924.py:4: FutureWarning: The frame.append method is deprecated and will be removed from pandas in a future version. Use pandas.concat instead.\n",
      "  train_df=rest.append(opi)\n"
     ]
    }
   ],
   "source": [
    "'''\n",
    "opi=train_df[train_df['type']=='opinion']\n",
    "opi=opi.sample(frac=0.5)\n",
    "rest=train_df[train_df['type']!='opinion']\n",
    "train_df=rest.append(opi)\n",
    "'''"
   ]
  },
  {
   "cell_type": "code",
   "execution_count": 16,
   "id": "5207610f",
   "metadata": {},
   "outputs": [
    {
     "data": {
      "image/png": "[encoded data removed]",
      "text/plain": [
       "<Figure size 640x480 with 1 Axes>"
      ]
     },
     "metadata": {},
     "output_type": "display_data"
    }
   ],
   "source": [
    "train_df.groupby('type').type.value_counts().plot(kind = \"bar\", color = [\"pink\", \"orange\", \"red\"])\n",
    "plt.show()"
   ]
  },
  {
   "cell_type": "code",
   "execution_count": 94,
   "id": "f156615e",
   "metadata": {},
   "outputs": [
    {
     "name": "stdout",
     "output_type": "stream",
     "text": [
      "NUM_LABELS: 3\n"
     ]
    }
   ],
   "source": [
    "# Global vars - vars in ALL_CAPS can be adjusted to enable experiments\n",
    "\n",
    "#Dataset vars\n",
    "THESE_LABELS = \"type\" # use 'label' for multi-class classification & 'label_binary' for binary\n",
    "NUM_LABELS = train_df[THESE_LABELS].nunique()\n",
    "print(f\"NUM_LABELS: {NUM_LABELS}\")\n",
    "\n",
    "#BERT/Training vars\n",
    "MODEL = \"distilbert-base-cased\"\n",
    "#MODEL = \"distilbert-base-multilingual-uncased\"\n",
    "#MODEL = \"roberta-base\"\n",
    "EPOCHS = 5 # Good starting range is 2 to 4\n",
    "LEARNING_RATE = 6e-5 # Good starting range is 2e-5 to 5e-5\n",
    "BATCH_SIZE = 32 # For fine-tuning BERT on a specific task, the authors recommend a batch size of 16 or 32."
   ]
  },
  {
   "cell_type": "code",
   "execution_count": 95,
   "id": "e0bac305",
   "metadata": {},
   "outputs": [
    {
     "name": "stdout",
     "output_type": "stream",
     "text": [
      "0: opinion\n",
      "1: reporting\n",
      "2: satire\n"
     ]
    }
   ],
   "source": [
    "sentences = train_df.text.values\n",
    "\n",
    "le = LabelEncoder()\n",
    "labels = le.fit_transform(train_df[THESE_LABELS]) # encode labels as ints\n",
    "\n",
    "counter = 0\n",
    "for entry in le.classes_:\n",
    "  print(f\"{counter}: {entry}\")\n",
    "  counter += 1\n",
    "\n",
    "train_df[THESE_LABELS+\"_encoded\"] = labels # add col to train_df with ints for labels"
   ]
  },
  {
   "cell_type": "code",
   "execution_count": 96,
   "id": "83701991",
   "metadata": {},
   "outputs": [
    {
     "name": "stdout",
     "output_type": "stream",
     "text": [
      "Loading tokenizer...\n"
     ]
    }
   ],
   "source": [
    "print('Loading tokenizer...')\n",
    "if MODEL == \"distilbert-base-cased\":\n",
    "\n",
    "  from transformers import DistilBertTokenizer\n",
    "  tokenizer = DistilBertTokenizer.from_pretrained('distilbert-base-cased', do_lower_case = True)\n",
    "\n",
    "elif MODEL == \"distilbert-base-uncased\":\n",
    "\n",
    "  from transformers import DistilBertTokenizer\n",
    "  tokenizer = DistilBertTokenizer.from_pretrained('distilbert-base-uncased', do_lower_case = True)\n",
    "\n",
    "elif MODEL == \"distilbert-base-multilingual-uncased\":\n",
    "\n",
    "  from transformers import DistilBertTokenizer\n",
    "  tokenizer = DistilBertTokenizer.from_pretrained('bert-base-multilingual-cased', do_lower_case = True)\n",
    "\n",
    "elif MODEL == \"bert-base-cased\":\n",
    "\n",
    "  from transformers import BertTokenizer\n",
    "  tokenizer = BertTokenizer.from_pretrained('bert-base-cased', do_lower_case = False)\n",
    "\n",
    "elif MODEL == \"roberta-base\":\n",
    "\n",
    "  from transformers import RobertaTokenizer\n",
    "  tokenizer = RobertaTokenizer.from_pretrained(\"roberta-base\")\n",
    "\n",
    "else:\n",
    "  raise ValueError('Unknown model specified. Check MODEL var.')"
   ]
  },
  {
   "cell_type": "code",
   "execution_count": 97,
   "id": "30f09510",
   "metadata": {},
   "outputs": [
    {
     "name": "stdout",
     "output_type": "stream",
     "text": [
      " Original:  able to handle millions of people since obama planned to have over a million muslim refugees brought into the us over a short period of time along with the hundreds of thousands of illegal immigrants coming in one can understand the reason the feds had to have the walmart stores and so much land as they needed housing for the millions they planned to bring in despite president trump signing an executive order suspending syrian refugees from entering the us for 120 days on jan 26 2017 while security measures were reviewed the us still imported 110000 refugees from syria and various other countries into the us in 2017 alone up from 85000 the previous year these numbers follow obama 's projections of the expected amount of refugees permitted to come to the us of course as with the number of illegal immigrants entering our county the feds downplay the actual number which always ends up to be more than quadruple their stated number what we seem to have here with the illegal immigration situation today is some very good actors on the left accusing the trump administration of being cruel and insensitive with separating children from their families once they cross the mexican border into the us when in fact their idol obama did the same thing for years during his time in power what they do not want to admit to is the fact that today 's illegal immigration picture is one that follows the obama plan on\n",
      "Tokenized:  ['able', 'to', 'handle', 'millions', 'of', 'people', 'since', 'o', '##ba', '##ma', 'planned', 'to', 'have', 'over', 'a', 'million', 'm', '##us', '##lim', 'refugees', 'brought', 'into', 'the', 'us', 'over', 'a', 'short', 'period', 'of', 'time', 'along', 'with', 'the', 'hundreds', 'of', 'thousands', 'of', 'illegal', 'immigrants', 'coming', 'in', 'one', 'can', 'understand', 'the', 'reason', 'the', 'fed', '##s', 'had', 'to', 'have', 'the', 'wa', '##lma', '##rt', 'stores', 'and', 'so', 'much', 'land', 'as', 'they', 'needed', 'housing', 'for', 'the', 'millions', 'they', 'planned', 'to', 'bring', 'in', 'despite', 'president', 't', '##rump', 'signing', 'an', 'executive', 'order', 'su', '##sp', '##ending', 's', '##yrian', 'refugees', 'from', 'entering', 'the', 'us', 'for', '120', 'days', 'on', 'j', '##an', '26', '2017', 'while', 'security', 'measures', 'were', 'reviewed', 'the', 'us', 'still', 'imported', '1100', '##00', 'refugees', 'from', 's', '##yr', '##ia', 'and', 'various', 'other', 'countries', 'into', 'the', 'us', 'in', '2017', 'alone', 'up', 'from', '850', '##00', 'the', 'previous', 'year', 'these', 'numbers', 'follow', 'o', '##ba', '##ma', \"'\", 's', 'projections', 'of', 'the', 'expected', 'amount', 'of', 'refugees', 'permitted', 'to', 'come', 'to', 'the', 'us', 'of', 'course', 'as', 'with', 'the', 'number', 'of', 'illegal', 'immigrants', 'entering', 'our', 'county', 'the', 'fed', '##s', 'down', '##play', 'the', 'actual', 'number', 'which', 'always', 'ends', 'up', 'to', 'be', 'more', 'than', 'q', '##uad', '##rup', '##le', 'their', 'stated', 'number', 'what', 'we', 'seem', 'to', 'have', 'here', 'with', 'the', 'illegal', 'immigration', 'situation', 'today', 'is', 'some', 'very', 'good', 'actors', 'on', 'the', 'left', 'accusing', 'the', 't', '##rump', 'administration', 'of', 'being', 'cruel', 'and', 'ins', '##ens', '##itive', 'with', 'separating', 'children', 'from', 'their', 'families', 'once', 'they', 'cross', 'the', 'me', '##xi', '##can', 'border', 'into', 'the', 'us', 'when', 'in', 'fact', 'their', 'idol', 'o', '##ba', '##ma', 'did', 'the', 'same', 'thing', 'for', 'years', 'during', 'his', 'time', 'in', 'power', 'what', 'they', 'do', 'not', 'want', 'to', 'admit', 'to', 'is', 'the', 'fact', 'that', 'today', \"'\", 's', 'illegal', 'immigration', 'picture', 'is', 'one', 'that', 'follows', 'the', 'o', '##ba', '##ma', 'plan', 'on']\n",
      "Token IDs:  [1682, 1106, 4282, 9215, 1104, 1234, 1290, 184, 2822, 1918, 2919, 1106, 1138, 1166, 170, 1550, 182, 1361, 24891, 8940, 1814, 1154, 1103, 1366, 1166, 170, 1603, 1669, 1104, 1159, 1373, 1114, 1103, 5229, 1104, 4674, 1104, 5696, 7162, 1909, 1107, 1141, 1169, 2437, 1103, 2255, 1103, 7672, 1116, 1125, 1106, 1138, 1103, 20049, 16882, 3740, 4822, 1105, 1177, 1277, 1657, 1112, 1152, 1834, 3328, 1111, 1103, 9215, 1152, 2919, 1106, 2498, 1107, 2693, 2084, 189, 27321, 6086, 1126, 3275, 1546, 28117, 20080, 16264, 188, 21149, 8940, 1121, 5273, 1103, 1366, 1111, 5356, 1552, 1113, 179, 1389, 1744, 1504, 1229, 2699, 5252, 1127, 7815, 1103, 1366, 1253, 11095, 24450, 7629, 8940, 1121, 188, 12577, 1465, 1105, 1672, 1168, 2182, 1154, 1103, 1366, 1107, 1504, 2041, 1146, 1121, 16577, 7629, 1103, 2166, 1214, 1292, 2849, 2812, 184, 2822, 1918, 112, 188, 25344, 1104, 1103, 2637, 2971, 1104, 8940, 7485, 1106, 1435, 1106, 1103, 1366, 1104, 1736, 1112, 1114, 1103, 1295, 1104, 5696, 7162, 5273, 1412, 2514, 1103, 7672, 1116, 1205, 11044, 1103, 4315, 1295, 1134, 1579, 3769, 1146, 1106, 1129, 1167, 1190, 186, 18413, 20910, 1513, 1147, 2202, 1295, 1184, 1195, 3166, 1106, 1138, 1303, 1114, 1103, 5696, 9027, 2820, 2052, 1110, 1199, 1304, 1363, 5681, 1113, 1103, 1286, 18001, 1103, 189, 27321, 3469, 1104, 1217, 11224, 1105, 22233, 5026, 8588, 1114, 15352, 1482, 1121, 1147, 2073, 1517, 1152, 2771, 1103, 1143, 8745, 7804, 3070, 1154, 1103, 1366, 1165, 1107, 1864, 1147, 17642, 184, 2822, 1918, 1225, 1103, 1269, 1645, 1111, 1201, 1219, 1117, 1159, 1107, 1540, 1184, 1152, 1202, 1136, 1328, 1106, 5890, 1106, 1110, 1103, 1864, 1115, 2052, 112, 188, 5696, 9027, 3439, 1110, 1141, 1115, 3226, 1103, 184, 2822, 1918, 2197, 1113]\n",
      "Label:  0\n"
     ]
    }
   ],
   "source": [
    "random_sample = random.randint(0,train_df.shape[0])\n",
    "\n",
    "# Print the original sentence.\n",
    "print(' Original: ', sentences[random_sample])\n",
    "\n",
    "# Print the sentence split into tokens.\n",
    "print('Tokenized: ', tokenizer.tokenize(sentences[random_sample]))\n",
    "\n",
    "# Print the sentence mapped to token ids.\n",
    "print('Token IDs: ', tokenizer.convert_tokens_to_ids(tokenizer.tokenize(sentences[random_sample])))\n",
    "\n",
    "#Print the associated label\n",
    "print(\"Label: \", labels[random_sample])"
   ]
  },
  {
   "cell_type": "code",
   "execution_count": 98,
   "id": "d4b07446",
   "metadata": {},
   "outputs": [
    {
     "name": "stderr",
     "output_type": "stream",
     "text": [
      "Token indices sequence length is longer than the specified maximum sequence length for this model (1063 > 512). Running this sequence through the model will result in indexing errors\n",
      "WARNING: max_len exceeds max token length for BERT.\n"
     ]
    }
   ],
   "source": [
    "max_len = 0\n",
    "\n",
    "# For every sentence...\n",
    "for sent in sentences:\n",
    "\n",
    "    # Tokenize the text and add `[CLS]` and `[SEP]` tokens.\n",
    "    input_ids = tokenizer.encode(sent, add_special_tokens=True)\n",
    "\n",
    "    # Update the maximum sentence length.\n",
    "    max_len = max(max_len, len(input_ids))\n",
    "\n",
    "if max_len <= 512:\n",
    "  print('Max sentence length: ', max_len) #max sentence len for BERT is 512\n",
    "else:\n",
    "  warnings.warn(\"WARNING: max_len exceeds max token length for BERT.\")"
   ]
  },
  {
   "cell_type": "code",
   "execution_count": null,
   "id": "2f80d674",
   "metadata": {},
   "outputs": [],
   "source": [
    "train_df[train_df['type']=='opinion']['text'].str.len().hist()"
   ]
  },
  {
   "cell_type": "code",
   "execution_count": 110,
   "id": "e7b7e806",
   "metadata": {},
   "outputs": [
    {
     "data": {
      "text/plain": [
       "tensor([  101,  1682,  1106,  4282,  9215,  1104,  1234,  1290,   184,  2822,\n",
       "         1918,  2919,  1106,  1138,  1166,   170,  1550,   182,  1361, 24891,\n",
       "         8940,  1814,  1154,  1103,  1366,  1166,   170,  1603,  1669,  1104,\n",
       "         1159,  1373,  1114,  1103,  5229,  1104,  4674,  1104,  5696,  7162,\n",
       "         1909,  1107,  1141,  1169,  2437,  1103,  2255,  1103,  7672,  1116,\n",
       "         1125,  1106,  1138,  1103, 20049, 16882,  3740,  4822,  1105,  1177,\n",
       "         1277,  1657,  1112,  1152,  1834,  3328,  1111,  1103,  9215,  1152,\n",
       "         2919,  1106,  2498,  1107,  2693,  2084,   189, 27321,  6086,  1126,\n",
       "         3275,  1546, 28117, 20080, 16264,   188, 21149,  8940,  1121,  5273,\n",
       "         1103,  1366,  1111,  5356,  1552,  1113,   179,  1389,  1744,  1504,\n",
       "         1229,  2699,  5252,  1127,  7815,  1103,  1366,  1253, 11095, 24450,\n",
       "         7629,  8940,  1121,   188, 12577,  1465,  1105,  1672,  1168,  2182,\n",
       "         1154,  1103,  1366,  1107,  1504,  2041,  1146,  1121, 16577,  7629,\n",
       "         1103,  2166,  1214,  1292,  2849,  2812,   184,  2822,  1918,   112,\n",
       "          188, 25344,  1104,  1103,  2637,  2971,  1104,  8940,  7485,  1106,\n",
       "         1435,  1106,  1103,  1366,  1104,  1736,  1112,  1114,  1103,  1295,\n",
       "         1104,  5696,  7162,  5273,  1412,  2514,  1103,  7672,  1116,  1205,\n",
       "        11044,  1103,  4315,  1295,  1134,  1579,  3769,  1146,  1106,  1129,\n",
       "         1167,  1190,   186, 18413, 20910,  1513,  1147,  2202,  1295,  1184,\n",
       "         1195,  3166,  1106,  1138,  1303,  1114,  1103,  5696,  9027,  2820,\n",
       "         2052,  1110,  1199,  1304,  1363,  5681,  1113,  1103,  1286, 18001,\n",
       "         1103,   189, 27321,  3469,  1104,  1217, 11224,  1105, 22233,  5026,\n",
       "         8588,  1114, 15352,  1482,  1121,  1147,  2073,  1517,  1152,  2771,\n",
       "         1103,  1143,  8745,  7804,  3070,  1154,  1103,  1366,  1165,  1107,\n",
       "         1864,  1147, 17642,   184,  2822,  1918,  1225,  1103,  1269,  1645,\n",
       "         1111,  1201,  1219,  1117,  1159,  1107,  1540,  1184,  1152,  1202,\n",
       "         1136,  1328,  1106,  5890,  1106,  1110,  1103,  1864,  1115,  2052,\n",
       "          112,   188,  5696,  9027,  3439,  1110,  1141,  1115,  3226,  1103,\n",
       "          184,  2822,  1918,  2197,  1113,   102,     0,     0,     0,     0,\n",
       "            0,     0,     0,     0,     0,     0,     0,     0,     0,     0,\n",
       "            0,     0,     0,     0,     0,     0,     0,     0,     0,     0,\n",
       "            0,     0,     0,     0,     0,     0,     0,     0,     0,     0,\n",
       "            0,     0,     0,     0,     0,     0,     0,     0,     0,     0,\n",
       "            0,     0,     0,     0,     0,     0,     0,     0,     0,     0,\n",
       "            0,     0,     0,     0,     0,     0,     0,     0,     0,     0,\n",
       "            0,     0,     0,     0,     0,     0,     0,     0,     0,     0,\n",
       "            0,     0,     0,     0,     0,     0,     0,     0,     0,     0,\n",
       "            0,     0,     0,     0,     0,     0,     0,     0,     0,     0,\n",
       "            0,     0,     0,     0,     0,     0,     0,     0,     0,     0,\n",
       "            0,     0,     0,     0,     0,     0,     0,     0,     0,     0,\n",
       "            0,     0,     0,     0,     0,     0,     0,     0,     0,     0,\n",
       "            0,     0,     0,     0,     0,     0,     0,     0,     0,     0,\n",
       "            0,     0,     0,     0,     0,     0,     0,     0,     0,     0,\n",
       "            0,     0,     0,     0,     0,     0,     0,     0,     0,     0,\n",
       "            0,     0,     0,     0,     0,     0,     0,     0,     0,     0,\n",
       "            0,     0,     0,     0,     0,     0,     0,     0,     0,     0,\n",
       "            0,     0,     0,     0,     0,     0,     0,     0,     0,     0,\n",
       "            0,     0,     0,     0,     0,     0,     0,     0,     0,     0,\n",
       "            0,     0,     0,     0,     0,     0,     0,     0,     0,     0,\n",
       "            0,     0,     0,     0,     0,     0,     0,     0,     0,     0,\n",
       "            0,     0,     0,     0,     0,     0,     0,     0,     0,     0,\n",
       "            0,     0])"
      ]
     },
     "execution_count": 110,
     "metadata": {},
     "output_type": "execute_result"
    }
   ],
   "source": [
    "input_ids[random_sample]"
   ]
  },
  {
   "cell_type": "code",
   "execution_count": 101,
   "id": "50fc641d",
   "metadata": {},
   "outputs": [
    {
     "name": "stdout",
     "output_type": "stream",
     "text": [
      "Original:  able to handle millions of people since obama planned to have over a million muslim refugees brought into the us over a short period of time along with the hundreds of thousands of illegal immigrants coming in one can understand the reason the feds had to have the walmart stores and so much land as they needed housing for the millions they planned to bring in despite president trump signing an executive order suspending syrian refugees from entering the us for 120 days on jan 26 2017 while security measures were reviewed the us still imported 110000 refugees from syria and various other countries into the us in 2017 alone up from 85000 the previous year these numbers follow obama 's projections of the expected amount of refugees permitted to come to the us of course as with the number of illegal immigrants entering our county the feds downplay the actual number which always ends up to be more than quadruple their stated number what we seem to have here with the illegal immigration situation today is some very good actors on the left accusing the trump administration of being cruel and insensitive with separating children from their families once they cross the mexican border into the us when in fact their idol obama did the same thing for years during his time in power what they do not want to admit to is the fact that today 's illegal immigration picture is one that follows the obama plan on\n",
      "Token IDs: tensor([  101,  1682,  1106,  4282,  9215,  1104,  1234,  1290,   184,  2822,\n",
      "         1918,  2919,  1106,  1138,  1166,   170,  1550,   182,  1361, 24891,\n",
      "         8940,  1814,  1154,  1103,  1366,  1166,   170,  1603,  1669,  1104,\n",
      "         1159,  1373,  1114,  1103,  5229,  1104,  4674,  1104,  5696,  7162,\n",
      "         1909,  1107,  1141,  1169,  2437,  1103,  2255,  1103,  7672,  1116,\n",
      "         1125,  1106,  1138,  1103, 20049, 16882,  3740,  4822,  1105,  1177,\n",
      "         1277,  1657,  1112,  1152,  1834,  3328,  1111,  1103,  9215,  1152,\n",
      "         2919,  1106,  2498,  1107,  2693,  2084,   189, 27321,  6086,  1126,\n",
      "         3275,  1546, 28117, 20080, 16264,   188, 21149,  8940,  1121,  5273,\n",
      "         1103,  1366,  1111,  5356,  1552,  1113,   179,  1389,  1744,  1504,\n",
      "         1229,  2699,  5252,  1127,  7815,  1103,  1366,  1253, 11095, 24450,\n",
      "         7629,  8940,  1121,   188, 12577,  1465,  1105,  1672,  1168,  2182,\n",
      "         1154,  1103,  1366,  1107,  1504,  2041,  1146,  1121, 16577,  7629,\n",
      "         1103,  2166,  1214,  1292,  2849,  2812,   184,  2822,  1918,   112,\n",
      "          188, 25344,  1104,  1103,  2637,  2971,  1104,  8940,  7485,  1106,\n",
      "         1435,  1106,  1103,  1366,  1104,  1736,  1112,  1114,  1103,  1295,\n",
      "         1104,  5696,  7162,  5273,  1412,  2514,  1103,  7672,  1116,  1205,\n",
      "        11044,  1103,  4315,  1295,  1134,  1579,  3769,  1146,  1106,  1129,\n",
      "         1167,  1190,   186, 18413, 20910,  1513,  1147,  2202,  1295,  1184,\n",
      "         1195,  3166,  1106,  1138,  1303,  1114,  1103,  5696,  9027,  2820,\n",
      "         2052,  1110,  1199,  1304,  1363,  5681,  1113,  1103,  1286, 18001,\n",
      "         1103,   189, 27321,  3469,  1104,  1217, 11224,  1105, 22233,  5026,\n",
      "         8588,  1114, 15352,  1482,  1121,  1147,  2073,  1517,  1152,  2771,\n",
      "         1103,  1143,  8745,  7804,  3070,  1154,  1103,  1366,  1165,  1107,\n",
      "         1864,  1147, 17642,   184,  2822,  1918,  1225,  1103,  1269,  1645,\n",
      "         1111,  1201,  1219,  1117,  1159,  1107,  1540,  1184,  1152,  1202,\n",
      "         1136,  1328,  1106,  5890,  1106,  1110,  1103,  1864,  1115,  2052,\n",
      "          112,   188,  5696,  9027,  3439,  1110,  1141,  1115,  3226,  1103,\n",
      "          184,  2822,  1918,  2197,  1113,   102,     0,     0,     0,     0,\n",
      "            0,     0,     0,     0,     0,     0,     0,     0,     0,     0,\n",
      "            0,     0,     0,     0,     0,     0,     0,     0,     0,     0,\n",
      "            0,     0,     0,     0,     0,     0,     0,     0,     0,     0,\n",
      "            0,     0,     0,     0,     0,     0,     0,     0,     0,     0,\n",
      "            0,     0,     0,     0,     0,     0,     0,     0,     0,     0,\n",
      "            0,     0,     0,     0,     0,     0,     0,     0,     0,     0,\n",
      "            0,     0,     0,     0,     0,     0,     0,     0,     0,     0,\n",
      "            0,     0,     0,     0,     0,     0,     0,     0,     0,     0,\n",
      "            0,     0,     0,     0,     0,     0,     0,     0,     0,     0,\n",
      "            0,     0,     0,     0,     0,     0,     0,     0,     0,     0,\n",
      "            0,     0,     0,     0,     0,     0,     0,     0,     0,     0,\n",
      "            0,     0,     0,     0,     0,     0,     0,     0,     0,     0,\n",
      "            0,     0,     0,     0,     0,     0,     0,     0,     0,     0,\n",
      "            0,     0,     0,     0,     0,     0,     0,     0,     0,     0,\n",
      "            0,     0,     0,     0,     0,     0,     0,     0,     0,     0,\n",
      "            0,     0,     0,     0,     0,     0,     0,     0,     0,     0,\n",
      "            0,     0,     0,     0,     0,     0,     0,     0,     0,     0,\n",
      "            0,     0,     0,     0,     0,     0,     0,     0,     0,     0,\n",
      "            0,     0,     0,     0,     0,     0,     0,     0,     0,     0,\n",
      "            0,     0,     0,     0,     0,     0,     0,     0,     0,     0,\n",
      "            0,     0,     0,     0,     0,     0,     0,     0,     0,     0,\n",
      "            0,     0,     0,     0,     0,     0,     0,     0,     0,     0,\n",
      "            0,     0])\n",
      "attention_masks: 512\n",
      "tensor(286) tensor(286)\n"
     ]
    },
    {
     "name": "stderr",
     "output_type": "stream",
     "text": [
      "To copy construct from a tensor, it is recommended to use sourceTensor.clone().detach() or sourceTensor.clone().detach().requires_grad_(True), rather than torch.tensor(sourceTensor).\n"
     ]
    }
   ],
   "source": [
    "# Tokenize all of the sentences and map the tokens to their word IDs.\n",
    "input_ids = []\n",
    "attention_masks = []\n",
    "\n",
    "# For every sentence...\n",
    "for sent in sentences:\n",
    "    #`encode_plus` will:\n",
    "    #(1) Tokenize the sentence.\n",
    "    #(2) Prepend the `[CLS]` token to the start.\n",
    "    #(3) Append the `[SEP]` token to the end.\n",
    "    #(4) Map tokens to their IDs.\n",
    "    #(5) Pad or truncate the sentence to `max_length`\n",
    "    #(6) Create attention masks for [PAD] tokens.\n",
    "    encoded_dict = tokenizer.encode_plus(\n",
    "        sent,                         #Sentence to encode.\n",
    "        add_special_tokens=True,    #Add '[CLS]' and '[SEP]'\n",
    "        max_length=512,         #Pad & truncate all sentences.\n",
    "        truncation=True,\n",
    "        pad_to_max_length=True,\n",
    "        return_attention_mask=True, # Construct attn. masks.\n",
    "        return_tensors='pt',        # Return pytorch tensors.\n",
    "        \n",
    "    )\n",
    "    \n",
    "    # Add the encoded sentence to the list.    \n",
    "    input_ids.append(encoded_dict['input_ids'])\n",
    "    \n",
    "    # And its attention mask (simply differentiates padding from non-padding).\n",
    "    attention_masks.append(encoded_dict['attention_mask'])\n",
    "\n",
    "# Convert the lists into tensors.\n",
    "input_ids = torch.cat(input_ids, dim=0)\n",
    "attention_masks = torch.cat(attention_masks, dim=0)\n",
    "labels = torch.tensor(labels)\n",
    "\n",
    "# Print sentence as a list of IDs.\n",
    "print('Original: ', sentences[random_sample])\n",
    "print('Token IDs:', input_ids[random_sample])\n",
    "print('attention_masks:', len(attention_masks[random_sample]))\n",
    "\n",
    "tot1=sum(i > 0 for i in input_ids[random_sample])\n",
    "tot2=sum(i > 0 for i in attention_masks[random_sample])\n",
    "#print(tot1,tot2)\n",
    "encoded_dict['token_type_ids']"
   ]
  },
  {
   "cell_type": "code",
   "execution_count": 109,
   "id": "0fc0a23e",
   "metadata": {},
   "outputs": [
    {
     "data": {
      "text/plain": [
       "{'input_ids': tensor([[  101, 26006, 11098,  5895, 12500,   129,   110,  1104,  1103,   185,\n",
       "         25694,  1324,  1416,  1107,   192, 26524,   118,  1743,   110,  1780,\n",
       "          1103,  1295,  1104, 26006, 11098,  5895,  1107,   185,  5326,  3276,\n",
       "          2204,  1106,  3081,  1559,  1550,  1107,  1336,  1152,  1253, 12500,\n",
       "           129,  3029,  1103,  1416,  1104,  1103,  1583,   118,   173, 15039,\n",
       "          9238,  4847,  2806,  1777,   185, 28115,  1605,  1163,  1113, 19863,\n",
       "          6194,   173,  1403,  1643,  2752,  1106,  1103,  2686,  1104,  1103,\n",
       "          6270,  2592,  4156,  1118,  1103,  3779,  1104,  1103,   185, 25694,\n",
       "          1324, 16411, 14386, 15276,  1643,  1126,  2369,  1104,  1367,  2026,\n",
       "          3038,  1104,  1103,  1583,  2233,  1359,  1113,  1103,  3622,  1104,\n",
       "          1869,  1121,  6866, 16215,  1105,  1103,   185,  6420,  1233,  1295,\n",
       "          8077,  2190,  1104,  2849,  3836,  1118, 26006, 11098,  5895,  1121,\n",
       "          1103,   187, 13356,  1811,  4923,  1104,   175, 15581,  5082,  3113,\n",
       "          1572,  1660,  1103,  3077,  1104,  1241, 26006, 11098,  1811,  7162,\n",
       "          1121,  1196,  1103,  1594,  1105,  1103,  1314,  4003,  1104,  8940,\n",
       "          1103,  2233,  2196,  1115,  1107,  1211,  1104,  1103,  3038,  2376,\n",
       "          1103,  1295,  1104, 26006, 11098,  5895,  2204,  1170,  1103,   170,\n",
       "          1643, 13217,  7966,  1114,  1160, 12408,   118,   192, 26524,  1105,\n",
       "          8755,  7220,  1103, 15276,  1643,  2592,  1145,  2196,  1107,  1134,\n",
       "          3038,  1103,  1211, 26006, 11098,  5895,  1132, 15122,  1193,  1120,\n",
       "          1103,  1304,  3248,  1104,  1103,  2190,  1110,  1118,  1181, 12443,\n",
       "          1584, 18587,  1105,   306,  5412,  1584,  1187, 26006, 11098,  5895,\n",
       "         12500,  1275,  3029,  3159,  1107,  1103,  1692,  1104,   192, 26524,\n",
       "          1122,  1110,  1743,  3029,  1105,  1107,  8755,  7220,  1479,  3029,\n",
       "          1780,  1107,  7846,  4718,  1103,  2439,  1295,  1110,  1107,  1103,\n",
       "          2364,  1103,  2439,  6556,  1104, 26006, 11098,  5895,  1107,  6796,\n",
       "          1106,  1103,  1295,  1104,  4131,  4365,  1107,   187, 11846,  6112,\n",
       "          2246,  3413,  3029,  1780,  1142,  1871,  1108,  1549,  2548,  1106,\n",
       "          1103,  5752,  1104,  1103,  2592,  1128,  1336,  4608,  1293,  1277,\n",
       "           187, 11846,  6112,  2246,  1105,  1103,  3376,  1298,  1132,  1178,\n",
       "           170,  1831,  1113,  1103,  2438,  1106,  1168,  2844,  1107,   185,\n",
       "          5326,  3276,  1105, 27772,  3186,  1105,  1106,   102,     0,     0,\n",
       "             0,     0,     0,     0,     0,     0,     0,     0,     0,     0,\n",
       "             0,     0,     0,     0,     0,     0,     0,     0,     0,     0,\n",
       "             0,     0,     0,     0,     0,     0,     0,     0,     0,     0,\n",
       "             0,     0,     0,     0,     0,     0,     0,     0,     0,     0,\n",
       "             0,     0,     0,     0,     0,     0,     0,     0,     0,     0,\n",
       "             0,     0,     0,     0,     0,     0,     0,     0,     0,     0,\n",
       "             0,     0,     0,     0,     0,     0,     0,     0,     0,     0,\n",
       "             0,     0,     0,     0,     0,     0,     0,     0,     0,     0,\n",
       "             0,     0,     0,     0,     0,     0,     0,     0,     0,     0,\n",
       "             0,     0,     0,     0,     0,     0,     0,     0,     0,     0,\n",
       "             0,     0,     0,     0,     0,     0,     0,     0,     0,     0,\n",
       "             0,     0,     0,     0,     0,     0,     0,     0,     0,     0,\n",
       "             0,     0,     0,     0,     0,     0,     0,     0,     0,     0,\n",
       "             0,     0,     0,     0,     0,     0,     0,     0,     0,     0,\n",
       "             0,     0,     0,     0,     0,     0,     0,     0,     0,     0,\n",
       "             0,     0,     0,     0,     0,     0,     0,     0,     0,     0,\n",
       "             0,     0,     0,     0,     0,     0,     0,     0,     0,     0,\n",
       "             0,     0,     0,     0,     0,     0,     0,     0,     0,     0,\n",
       "             0,     0,     0,     0,     0,     0,     0,     0,     0,     0,\n",
       "             0,     0]]), 'attention_mask': tensor([[1, 1, 1, 1, 1, 1, 1, 1, 1, 1, 1, 1, 1, 1, 1, 1, 1, 1, 1, 1, 1, 1, 1, 1,\n",
       "         1, 1, 1, 1, 1, 1, 1, 1, 1, 1, 1, 1, 1, 1, 1, 1, 1, 1, 1, 1, 1, 1, 1, 1,\n",
       "         1, 1, 1, 1, 1, 1, 1, 1, 1, 1, 1, 1, 1, 1, 1, 1, 1, 1, 1, 1, 1, 1, 1, 1,\n",
       "         1, 1, 1, 1, 1, 1, 1, 1, 1, 1, 1, 1, 1, 1, 1, 1, 1, 1, 1, 1, 1, 1, 1, 1,\n",
       "         1, 1, 1, 1, 1, 1, 1, 1, 1, 1, 1, 1, 1, 1, 1, 1, 1, 1, 1, 1, 1, 1, 1, 1,\n",
       "         1, 1, 1, 1, 1, 1, 1, 1, 1, 1, 1, 1, 1, 1, 1, 1, 1, 1, 1, 1, 1, 1, 1, 1,\n",
       "         1, 1, 1, 1, 1, 1, 1, 1, 1, 1, 1, 1, 1, 1, 1, 1, 1, 1, 1, 1, 1, 1, 1, 1,\n",
       "         1, 1, 1, 1, 1, 1, 1, 1, 1, 1, 1, 1, 1, 1, 1, 1, 1, 1, 1, 1, 1, 1, 1, 1,\n",
       "         1, 1, 1, 1, 1, 1, 1, 1, 1, 1, 1, 1, 1, 1, 1, 1, 1, 1, 1, 1, 1, 1, 1, 1,\n",
       "         1, 1, 1, 1, 1, 1, 1, 1, 1, 1, 1, 1, 1, 1, 1, 1, 1, 1, 1, 1, 1, 1, 1, 1,\n",
       "         1, 1, 1, 1, 1, 1, 1, 1, 1, 1, 1, 1, 1, 1, 1, 1, 1, 1, 1, 1, 1, 1, 1, 1,\n",
       "         1, 1, 1, 1, 1, 1, 1, 1, 1, 1, 1, 1, 1, 1, 1, 1, 1, 1, 1, 1, 1, 1, 1, 1,\n",
       "         1, 1, 1, 1, 1, 1, 1, 1, 1, 1, 1, 1, 1, 1, 1, 1, 1, 1, 1, 1, 1, 1, 1, 1,\n",
       "         1, 1, 1, 1, 1, 1, 0, 0, 0, 0, 0, 0, 0, 0, 0, 0, 0, 0, 0, 0, 0, 0, 0, 0,\n",
       "         0, 0, 0, 0, 0, 0, 0, 0, 0, 0, 0, 0, 0, 0, 0, 0, 0, 0, 0, 0, 0, 0, 0, 0,\n",
       "         0, 0, 0, 0, 0, 0, 0, 0, 0, 0, 0, 0, 0, 0, 0, 0, 0, 0, 0, 0, 0, 0, 0, 0,\n",
       "         0, 0, 0, 0, 0, 0, 0, 0, 0, 0, 0, 0, 0, 0, 0, 0, 0, 0, 0, 0, 0, 0, 0, 0,\n",
       "         0, 0, 0, 0, 0, 0, 0, 0, 0, 0, 0, 0, 0, 0, 0, 0, 0, 0, 0, 0, 0, 0, 0, 0,\n",
       "         0, 0, 0, 0, 0, 0, 0, 0, 0, 0, 0, 0, 0, 0, 0, 0, 0, 0, 0, 0, 0, 0, 0, 0,\n",
       "         0, 0, 0, 0, 0, 0, 0, 0, 0, 0, 0, 0, 0, 0, 0, 0, 0, 0, 0, 0, 0, 0, 0, 0,\n",
       "         0, 0, 0, 0, 0, 0, 0, 0, 0, 0, 0, 0, 0, 0, 0, 0, 0, 0, 0, 0, 0, 0, 0, 0,\n",
       "         0, 0, 0, 0, 0, 0, 0, 0]])}"
      ]
     },
     "execution_count": 109,
     "metadata": {},
     "output_type": "execute_result"
    }
   ],
   "source": [
    "encoded_dict"
   ]
  },
  {
   "cell_type": "code",
   "execution_count": 107,
   "id": "bdc1479b",
   "metadata": {},
   "outputs": [
    {
     "data": {
      "text/plain": [
       "tensor(-991899.)"
      ]
     },
     "execution_count": 107,
     "metadata": {},
     "output_type": "execute_result"
    }
   ],
   "source": [
    "\n",
    "(attention_masks[random_sample] - input_ids[random_sample]).sum().float()"
   ]
  },
  {
   "cell_type": "code",
   "execution_count": 68,
   "id": "f5115d51",
   "metadata": {},
   "outputs": [
    {
     "name": "stdout",
     "output_type": "stream",
     "text": [
      "3,372 training samples\n",
      "  375 validation samples\n"
     ]
    }
   ],
   "source": [
    "# Combine the training inputs into a TensorDataset.\n",
    "dataset = TensorDataset(input_ids, attention_masks, labels)\n",
    "\n",
    "# Create a 90-10 train-validation split.\n",
    "# Calculate the number of samples to include in each set.\n",
    "train_size = int(0.9 * len(dataset))\n",
    "val_size = len(dataset) - train_size\n",
    "\n",
    "# Divide the dataset by randomly selecting samples.\n",
    "train_dataset, val_dataset = random_split(dataset, [train_size, val_size])\n",
    "\n",
    "print('{:>5,} training samples'.format(train_size))\n",
    "print('{:>5,} validation samples'.format(val_size))"
   ]
  },
  {
   "cell_type": "code",
   "execution_count": 69,
   "id": "7fc4d135",
   "metadata": {},
   "outputs": [],
   "source": [
    "# Create the DataLoaders for our training and validation sets.\n",
    "# We'll take training samples in random order. \n",
    "train_dataloader = DataLoader(\n",
    "            train_dataset,  # The training samples.\n",
    "            sampler = RandomSampler(train_dataset), # Select batches randomly\n",
    "            batch_size = BATCH_SIZE # Trains with this batch size.\n",
    "        )\n",
    "\n",
    "# For validation the order doesn't matter, so we'll just read them sequentially.\n",
    "validation_dataloader = DataLoader(\n",
    "            val_dataset, # The validation samples.\n",
    "            sampler = SequentialSampler(val_dataset), # Pull out batches sequentially.\n",
    "            batch_size = BATCH_SIZE # Evaluate with this batch size.\n",
    "        )"
   ]
  },
  {
   "cell_type": "code",
   "execution_count": 70,
   "id": "5318bd7b",
   "metadata": {},
   "outputs": [
    {
     "name": "stderr",
     "output_type": "stream",
     "text": [
      "Some weights of the model checkpoint at distilbert-base-cased were not used when initializing DistilBertForSequenceClassification: ['vocab_layer_norm.bias', 'vocab_transform.weight', 'vocab_projector.weight', 'vocab_layer_norm.weight', 'vocab_transform.bias', 'vocab_projector.bias']\n",
      "- This IS expected if you are initializing DistilBertForSequenceClassification from the checkpoint of a model trained on another task or with another architecture (e.g. initializing a BertForSequenceClassification model from a BertForPreTraining model).\n",
      "- This IS NOT expected if you are initializing DistilBertForSequenceClassification from the checkpoint of a model that you expect to be exactly identical (initializing a BertForSequenceClassification model from a BertForSequenceClassification model).\n",
      "Some weights of DistilBertForSequenceClassification were not initialized from the model checkpoint at distilbert-base-cased and are newly initialized: ['pre_classifier.bias', 'classifier.bias', 'classifier.weight', 'pre_classifier.weight']\n",
      "You should probably TRAIN this model on a down-stream task to be able to use it for predictions and inference.\n"
     ]
    }
   ],
   "source": [
    "if MODEL == \"distilbert-base-cased\":\n",
    "\n",
    "  from transformers import DistilBertForSequenceClassification\n",
    "\n",
    "  model = DistilBertForSequenceClassification.from_pretrained(\n",
    "      \"distilbert-base-cased\",\n",
    "      num_labels = NUM_LABELS,\n",
    "      output_attentions = False,\n",
    "      output_hidden_states = False,\n",
    ")#.cuda()\n",
    "  \n",
    "elif MODEL == \"distilbert-base-uncased\":\n",
    "\n",
    "  from transformers import DistilBertForSequenceClassification\n",
    "\n",
    "  model = DistilBertForSequenceClassification.from_pretrained(\n",
    "      \"distilbert-base-uncased\",\n",
    "      num_labels = NUM_LABELS,\n",
    "      output_attentions = False,\n",
    "      output_hidden_states = False,\n",
    ")\n",
    "    \n",
    "elif MODEL == \"distilbert-base-multilingual-uncased\":\n",
    "\n",
    "  from transformers import DistilBertForSequenceClassification\n",
    "\n",
    "  model = DistilBertForSequenceClassification.from_pretrained(\n",
    "      \"distilbert-base-multilingual-cased\",\n",
    "      num_labels = NUM_LABELS,\n",
    "      output_attentions = False,\n",
    "      output_hidden_states = False,\n",
    ")\n",
    "  \n",
    "elif MODEL == \"bert-base-cased\":\n",
    "\n",
    "  from transformers import BertForSequenceClassification\n",
    "\n",
    "  model = BertForSequenceClassification.from_pretrained(\n",
    "    \"bert-base-cased\",\n",
    "    num_labels = NUM_LABELS,\n",
    "    output_attentions = False,\n",
    "    output_hidden_states = False,\n",
    ")\n",
    "  \n",
    "elif MODEL == \"roberta-base\":\n",
    "\n",
    "  from transformers import RobertaForSequenceClassification\n",
    "\n",
    "  model = RobertaForSequenceClassification.from_pretrained('roberta-base',num_labels = NUM_LABELS,\n",
    "    output_attentions = False,\n",
    "    output_hidden_states = False,)\n",
    "\n",
    "else:\n",
    "  raise ValueError('Unknown model specified. Check MODEL var.')\n",
    "\n"
   ]
  },
  {
   "cell_type": "code",
   "execution_count": 71,
   "id": "b4405a1d",
   "metadata": {},
   "outputs": [
    {
     "name": "stderr",
     "output_type": "stream",
     "text": [
      "/home/osservatorio/.local/lib/python3.8/site-packages/transformers/optimization.py:306: FutureWarning: This implementation of AdamW is deprecated and will be removed in a future version. Use the PyTorch implementation torch.optim.AdamW instead, or set `no_deprecation_warning=True` to disable this warning\n",
      "  warnings.warn(\n"
     ]
    }
   ],
   "source": [
    "optimizer = AdamW(\n",
    "    model.parameters(),\n",
    "    lr = LEARNING_RATE,\n",
    "    eps = 1e-8 #small weight to add to avoid zero weights\n",
    ")"
   ]
  },
  {
   "cell_type": "code",
   "execution_count": 72,
   "id": "80ada69f",
   "metadata": {},
   "outputs": [],
   "source": [
    "# Total number of training steps is [number of batches] x [number of epochs]. \n",
    "# (Note that this is not the same as the number of training samples).\n",
    "total_steps = len(train_dataloader) * EPOCHS\n",
    "\n",
    "# Create the learning rate scheduler.\n",
    "scheduler = get_linear_schedule_with_warmup(\n",
    "    optimizer,\n",
    "    num_warmup_steps = 0, # Default value in run_glue.py\n",
    "    num_training_steps = total_steps\n",
    ")"
   ]
  },
  {
   "cell_type": "code",
   "execution_count": 73,
   "id": "885598ae",
   "metadata": {},
   "outputs": [],
   "source": [
    "# Function to calculate the accuracy of our predictions vs labels\n",
    "def flat_accuracy(preds, labels):\n",
    "    pred_flat = np.argmax(preds, axis=1).flatten()\n",
    "    labels_flat = labels.flatten()\n",
    "    return np.sum(pred_flat == labels_flat) / len(labels_flat)\n",
    "def val_metrics(preds, labels):\n",
    "  \"\"\"\n",
    "  Calculates a variety of metrics during validation steps in training.\n",
    "\n",
    "  Args:\n",
    "    preds - an array of prediction scores, one for each class being assessed. Will be an array of shape (n_samples,1).\n",
    "    labels - an array of the true labels for a given set of validation samples. Should also be an array of shape (n_samples, n_classes). \n",
    "\n",
    "  Returns:\n",
    "    result - a dictionary of metrics and their values.\n",
    "  \"\"\"\n",
    "  preds_flat = np.argmax(preds, axis=1).flatten()\n",
    "  labels_flat = labels.flatten()\n",
    "\n",
    "  precision, recall, f1_micro, support = precision_recall_fscore_support(\n",
    "      y_true = labels_flat, \n",
    "      y_pred = preds_flat, \n",
    "      zero_division = 0, \n",
    "      average = \"micro\"\n",
    "  ) #using average = micro is consistent with LR & other models & SemEval metrics\n",
    "\n",
    "  f1_macro = f1_score(y_true = labels_flat, y_pred = preds_flat, average = \"macro\", zero_division = 0)\n",
    "\n",
    "  result = {\n",
    "      \"Precision\": precision,\n",
    "      \"Recall\": recall,\n",
    "      \"F1_micro\": f1_micro,\n",
    "      \"F1_macro\": f1_macro\n",
    "  }\n",
    "\n",
    "  return result\n",
    "def format_time(elapsed):\n",
    "    '''\n",
    "    Takes a time in seconds and returns a string hh:mm:ss\n",
    "    '''\n",
    "    # Round to the nearest second.\n",
    "    elapsed_rounded = int(round((elapsed)))\n",
    "    \n",
    "    # Format as hh:mm:ss\n",
    "    return str(datetime.timedelta(seconds=elapsed_rounded))"
   ]
  },

  {
   "cell_type": "code",
   "execution_count": 75,
   "id": "3beadad2",
   "metadata": {},
   "outputs": [
    {
     "data": {
      "text/html": [
       "<div>\n",
       "<style scoped>\n",
       "    .dataframe tbody tr th:only-of-type {\n",
       "        vertical-align: middle;\n",
       "    }\n",
       "\n",
       "    .dataframe tbody tr th {\n",
       "        vertical-align: top;\n",
       "    }\n",
       "\n",
       "    .dataframe thead th {\n",
       "        text-align: right;\n",
       "    }\n",
       "</style>\n",
       "<table border=\"1\" class=\"dataframe\">\n",
       "  <thead>\n",
       "    <tr style=\"text-align: right;\">\n",
       "      <th></th>\n",
       "      <th>Training Loss</th>\n",
       "      <th>Valid. Loss</th>\n",
       "      <th>Avg. Accur.</th>\n",
       "      <th>Avg. Precision</th>\n",
       "      <th>Avg. Recall</th>\n",
       "      <th>Avg. F1_micro</th>\n",
       "      <th>Avg. F1_macro</th>\n",
       "      <th>Training Time</th>\n",
       "      <th>Validation Time</th>\n",
       "    </tr>\n",
       "    <tr>\n",
       "      <th>epoch</th>\n",
       "      <th></th>\n",
       "      <th></th>\n",
       "      <th></th>\n",
       "      <th></th>\n",
       "      <th></th>\n",
       "      <th></th>\n",
       "      <th></th>\n",
       "      <th></th>\n",
       "      <th></th>\n",
       "    </tr>\n",
       "  </thead>\n",
       "  <tbody>\n",
       "    <tr>\n",
       "      <th>1</th>\n",
       "      <td>0.436385</td>\n",
       "      <td>0.164985</td>\n",
       "      <td>0.934896</td>\n",
       "      <td>0.934896</td>\n",
       "      <td>0.934896</td>\n",
       "      <td>0.934896</td>\n",
       "      <td>0.935306</td>\n",
       "      <td>0:32:43</td>\n",
       "      <td>0:01:00</td>\n",
       "    </tr>\n",
       "    <tr>\n",
       "      <th>2</th>\n",
       "      <td>0.101839</td>\n",
       "      <td>0.092630</td>\n",
       "      <td>0.962523</td>\n",
       "      <td>0.962523</td>\n",
       "      <td>0.962523</td>\n",
       "      <td>0.962523</td>\n",
       "      <td>0.962741</td>\n",
       "      <td>0:31:25</td>\n",
       "      <td>0:00:58</td>\n",
       "    </tr>\n",
       "    <tr>\n",
       "      <th>3</th>\n",
       "      <td>0.027467</td>\n",
       "      <td>0.049244</td>\n",
       "      <td>0.986979</td>\n",
       "      <td>0.986979</td>\n",
       "      <td>0.986979</td>\n",
       "      <td>0.986979</td>\n",
       "      <td>0.986370</td>\n",
       "      <td>0:31:38</td>\n",
       "      <td>0:00:58</td>\n",
       "    </tr>\n",
       "  </tbody>\n",
       "</table>\n",
       "</div>"
      ],
      "text/plain": [
       "       Training Loss  Valid. Loss  Avg. Accur.  Avg. Precision  Avg. Recall  \\\n",
       "epoch                                                                         \n",
       "1           0.436385     0.164985     0.934896        0.934896     0.934896   \n",
       "2           0.101839     0.092630     0.962523        0.962523     0.962523   \n",
       "3           0.027467     0.049244     0.986979        0.986979     0.986979   \n",
       "\n",
       "       Avg. F1_micro  Avg. F1_macro Training Time Validation Time  \n",
       "epoch                                                              \n",
       "1           0.934896       0.935306       0:32:43         0:01:00  \n",
       "2           0.962523       0.962741       0:31:25         0:00:58  \n",
       "3           0.986979       0.986370       0:31:38         0:00:58  "
      ]
     },
     "execution_count": 75,
     "metadata": {},
     "output_type": "execute_result"
    }
   ],
   "source": [
    "# Display floats with two decimal places.\n",
    "#pd.set_option('precision', 2)\n",
    "\n",
    "# Create a DataFrame from our training statistics.\n",
    "df_stats = pd.DataFrame(data=training_stats)\n",
    "\n",
    "# Use the 'epoch' as the row index.\n",
    "df_stats = df_stats.set_index('epoch')\n",
    "\n",
    "# Display the table.\n",
    "df_stats"
   ]
  },
  {
   "cell_type": "code",
   "execution_count": 76,
   "id": "7959ba82",
   "metadata": {},
   "outputs": [
    {
     "data": {
      "text/plain": [
       "[{'epoch': 1,\n",
       "  'Training Loss': 0.4363850849627886,\n",
       "  'Valid. Loss': 0.1649850153674682,\n",
       "  'Avg. Accur.': 0.9348958333333334,\n",
       "  'Avg. Precision': 0.9348958333333334,\n",
       "  'Avg. Recall': 0.9348958333333334,\n",
       "  'Avg. F1_micro': 0.9348958333333334,\n",
       "  'Avg. F1_macro': 0.935306185152656,\n",
       "  'Training Time': '0:32:43',\n",
       "  'Validation Time': '0:01:00'},\n",
       " {'epoch': 2,\n",
       "  'Training Loss': 0.10183905822857511,\n",
       "  'Valid. Loss': 0.09263018146157265,\n",
       "  'Avg. Accur.': 0.9625226449275363,\n",
       "  'Avg. Precision': 0.9625226449275363,\n",
       "  'Avg. Recall': 0.9625226449275363,\n",
       "  'Avg. F1_micro': 0.9625226449275363,\n",
       "  'Avg. F1_macro': 0.962740686430791,\n",
       "  'Training Time': '0:31:25',\n",
       "  'Validation Time': '0:00:58'},\n",
       " {'epoch': 3,\n",
       "  'Training Loss': 0.02746656674997143,\n",
       "  'Valid. Loss': 0.04924366362683941,\n",
       "  'Avg. Accur.': 0.9869791666666666,\n",
       "  'Avg. Precision': 0.9869791666666666,\n",
       "  'Avg. Recall': 0.9869791666666666,\n",
       "  'Avg. F1_micro': 0.9869791666666666,\n",
       "  'Avg. F1_macro': 0.9863701665547092,\n",
       "  'Training Time': '0:31:38',\n",
       "  'Validation Time': '0:00:58'}]"
      ]
     },
     "execution_count": 76,
     "metadata": {},
     "output_type": "execute_result"
    }
   ],
   "source": [
    "training_stats"
   ]
  },
  {
   "cell_type": "code",
   "execution_count": 77,
   "id": "3ff2087c",
   "metadata": {},
   "outputs": [
    {
     "data": {
      "text/plain": [
       "Avg. Accur.       0.961466\n",
       "Avg. Precision    0.961466\n",
       "Avg. Recall       0.961466\n",
       "Avg. F1_micro     0.961466\n",
       "Avg. F1_macro     0.961472\n",
       "Name: mean, dtype: float64"
      ]
     },
     "execution_count": 77,
     "metadata": {},
     "output_type": "execute_result"
    }
   ],
   "source": [
    "df_stats.describe().loc[\"mean\",[\"Avg. Accur.\",\"Avg. Precision\", \"Avg. Recall\", \"Avg. F1_micro\", \"Avg. F1_macro\"]]"
   ]
  },
  {
   "cell_type": "code",
   "execution_count": 78,
   "id": "6cdb0e10",
   "metadata": {},
   "outputs": [
    {
     "data": {
      "image/png": "[encoded data removed]",
      "text/plain": [
       "<Figure size 1200x600 with 1 Axes>"
      ]
     },
     "metadata": {},
     "output_type": "display_data"
    }
   ],
   "source": [
    "%matplotlib inline\n",
    "\n",
    "# Use plot styling from seaborn.\n",
    "sns.set(style='darkgrid')\n",
    "\n",
    "# Increase the plot size and font size.\n",
    "sns.set(font_scale=1.5)\n",
    "plt.rcParams[\"figure.figsize\"] = (12,6)\n",
    "\n",
    "# Plot the learning curve.\n",
    "plt.plot(df_stats['Training Loss'], 'b-o', label=\"Training\")\n",
    "plt.plot(df_stats['Valid. Loss'], 'g-o', label=\"Validation\")\n",
    "\n",
    "# Label the plot.\n",
    "plt.title(\"Training & Validation Loss\")\n",
    "plt.xlabel(\"Epoch\")\n",
    "plt.ylabel(\"Loss\")\n",
    "plt.legend()\n",
    "plt.xticks(range(1,EPOCHS+1))\n",
    "\n",
    "plt.show()"
   ]
  },
  {
   "cell_type": "code",
   "execution_count": 79,
   "id": "126478d6",
   "metadata": {},
   "outputs": [
    {
     "name": "stdout",
     "output_type": "stream",
     "text": [
      "Saving model to ./multi_model_t1_trans_upsampling/\n"
     ]
    },
    {
     "data": {
      "text/plain": [
       "('./multi_model_t1_trans_upsampling/tokenizer_config.json',\n",
       " './multi_model_t1_trans_upsampling/special_tokens_map.json',\n",
       " './multi_model_t1_trans_upsampling/vocab.txt',\n",
       " './multi_model_t1_trans_upsampling/added_tokens.json')"
      ]
     },
     "execution_count": 79,
     "metadata": {},
     "output_type": "execute_result"
    }
   ],
   "source": [
    "output_dir = './multi_model_t1_trans_upsampling/'\n",
    "\n",
    "# # Create output directory if needed\n",
    "if not os.path.exists(output_dir):\n",
    "    os.makedirs(output_dir)\n",
    "\n",
    "print(\"Saving model to %s\" % output_dir)\n",
    "\n",
    "# # Save a trained model, configuration and tokenizer using `save_pretrained()`.\n",
    "model_to_save = model.module if hasattr(model, 'module') else model  # Take care of distributed/parallel training\n",
    "model_to_save.config.id2label = {i: le.classes_[i] for i in range(len(le.classes_))}\n",
    "model_to_save.config.label2id = {le.classes_[i]:i for i in range(len(le.classes_))}\n",
    "model_to_save.save_pretrained(output_dir)\n",
    "tokenizer.save_pretrained(output_dir)"
   ]
  },
  {
   "cell_type": "code",
   "execution_count": 53,
   "id": "9c7608de",
   "metadata": {},
   "outputs": [],
   "source": [
    "###DEV"
   ]
  },
  {
   "cell_type": "code",
   "execution_count": 80,
   "id": "23fe3860",
   "metadata": {},
   "outputs": [
    {
     "data": {
      "text/plain": [
       "{'opinion': 0, 'reporting': 1, 'satire': 2}"
      ]
     },
     "execution_count": 80,
     "metadata": {},
     "output_type": "execute_result"
    }
   ],
   "source": [
    "label2id = model.config.label2id # these are the labels the model already \"knows\"\n",
    "\n",
    "if len(label2id.items())>2:\n",
    "    THESE_LABELS = 'label'\n",
    "else:\n",
    "    THESE_LABELS = 'label_binary'\n",
    "\n",
    "label2id"
   ]
  },
  {
   "cell_type": "code",
   "execution_count": 81,
   "id": "a0b218ef",
   "metadata": {},
   "outputs": [
    {
     "name": "stdout",
     "output_type": "stream",
     "text": [
      "Number of test sentences: 83\n",
      "\n"
     ]
    }
   ],
   "source": [
    "# Load the dataset into a pandas dataframe.\n",
    "dev_df = pd.read_csv(\n",
    "    \"data/en/dev_data_1.tsv\",\n",
    "    sep = \"\\t\",\n",
    "    header = 0,\n",
    "    index_col = 0\n",
    ") \n",
    "\n",
    "# Report the number of sentences.\n",
    "print('Number of test sentences: {:,}\\n'.format(dev_df.shape[0]))\n",
    "\n",
    "#dev_df[\"label_encoded\"] = dev_df[THESE_LABELS].map(label2id) # use same mapping from model\n",
    "\n",
    "sentences = dev_df.text.values"
   ]
  },
  {
   "cell_type": "code",
   "execution_count": 82,
   "id": "a1798b44",
   "metadata": {},
   "outputs": [
    {
     "name": "stderr",
     "output_type": "stream",
     "text": [
      "/home/osservatorio/.local/lib/python3.8/site-packages/transformers/tokenization_utils_base.py:2304: FutureWarning: The `pad_to_max_length` argument is deprecated and will be removed in a future version, use `padding=True` or `padding='longest'` to pad to the longest sequence in the batch, or use `padding='max_length'` to pad to a max length. In this case, you can give a specific length with `max_length` (e.g. `max_length=45`) or leave max_length to None to pad to the maximal input size of the model (e.g. 512 for Bert).\n",
      "  warnings.warn(\n"
     ]
    }
   ],
   "source": [
    "# Tokenize all of the sentences and map the tokens to their word IDs.\n",
    "input_ids = []\n",
    "attention_masks = []\n",
    "\n",
    "# For every sentence...\n",
    "for sent in sentences:\n",
    "    # `encode_plus` will:\n",
    "    #   (1) Tokenize the sentence.\n",
    "    #   (2) Prepend the `[CLS]` token to the start.\n",
    "    #   (3) Append the `[SEP]` token to the end.\n",
    "    #   (4) Map tokens to their IDs.\n",
    "    #   (5) Pad or truncate the sentence to `max_length`\n",
    "    #   (6) Create attention masks for [PAD] tokens.\n",
    "    encoded_dict = tokenizer.encode_plus(\n",
    "                        sent,                      # Sentence to encode.\n",
    "                        add_special_tokens = True, # Add '[CLS]' and '[SEP]'\n",
    "                        max_length = 512,           # Pad & truncate all sentences.\n",
    "                        truncation = True,\n",
    "                        pad_to_max_length = True,\n",
    "                        return_attention_mask = True,   # Construct attn. masks.\n",
    "                        return_tensors = 'pt',     # Return pytorch tensors.\n",
    "                   )\n",
    "    \n",
    "    # Add the encoded sentence to the list.    \n",
    "    input_ids.append(encoded_dict['input_ids'])\n",
    "    \n",
    "    # And its attention mask (simply differentiates padding from non-padding).\n",
    "    attention_masks.append(encoded_dict['attention_mask'])\n",
    "\n",
    "# Convert the lists into tensors.\n",
    "input_ids = torch.cat(input_ids, dim=0)\n",
    "attention_masks = torch.cat(attention_masks, dim=0)\n",
    "\n",
    "# Create the DataLoader.\n",
    "prediction_data = TensorDataset(input_ids, attention_masks)\n",
    "prediction_dataloader = DataLoader(prediction_data, batch_size = BATCH_SIZE)"
   ]
  },
  {
   "cell_type": "code",
   "execution_count": 83,
   "id": "e4987009",
   "metadata": {},
   "outputs": [
    {
     "name": "stdout",
     "output_type": "stream",
     "text": [
      "Predicting labels for 83 dev sentences...\n",
      "    DONE.\n"
     ]
    }
   ],
   "source": [
    "# Prediction on test set\n",
    "\n",
    "print('Predicting labels for {:,} dev sentences...'.format(len(input_ids)))\n",
    "\n",
    "# Put model in evaluation mode\n",
    "model.eval()\n",
    "\n",
    "# Tracking variables \n",
    "predictions = []\n",
    "\n",
    "# Predict \n",
    "for batch in prediction_dataloader:\n",
    "  # Add batch to GPU\n",
    "  batch = tuple(t.to(device) for t in batch)\n",
    "  \n",
    "  # Unpack the inputs from our dataloader\n",
    "  # b_input_ids, b_input_mask, b_labels = batch\n",
    "  b_input_ids, b_input_mask = batch\n",
    "\n",
    "  \n",
    "  # Telling the model not to compute or store gradients, saving memory and \n",
    "  # speeding up prediction\n",
    "  with torch.no_grad():\n",
    "      # Forward pass, calculate logit predictions\n",
    "      outputs = model(b_input_ids, attention_mask=b_input_mask)\n",
    "\n",
    "  logits = outputs[0]\n",
    "\n",
    "  # Move logits and labels to CPU\n",
    "  logits = logits.detach().cpu().numpy()\n",
    "  \n",
    "  # Store predictions and true labels\n",
    "  predictions.append(logits)\n",
    "\n",
    "print('    DONE.')"
   ]
  },
  {
   "cell_type": "code",
   "execution_count": 84,
   "id": "42572cfb",
   "metadata": {},
   "outputs": [],
   "source": [
    "#Combine the results across all batches. \n",
    "flat_predictions = np.concatenate(predictions, axis = 0)\n",
    "\n",
    "predicted_probs = softmax(flat_predictions)\n",
    "\n",
    "dev_df[\"predicted_label\"] = np.argmax(predicted_probs, axis = 1) #Find the index of highest predicted probability, this is the predicted "
   ]
  },
  {
   "cell_type": "code",
   "execution_count": 85,
   "id": "f1ec4ba8",
   "metadata": {},
   "outputs": [
    {
     "data": {
      "text/plain": [
       "{'opinion': 0, 'reporting': 1, 'satire': 2}"
      ]
     },
     "execution_count": 85,
     "metadata": {},
     "output_type": "execute_result"
    }
   ],
   "source": [
    "label2id"
   ]
  },
  {
   "cell_type": "code",
   "execution_count": 86,
   "id": "82292ebf",
   "metadata": {},
   "outputs": [
    {
     "data": {
      "text/plain": [
       "{0: 'opinion', 1: 'reporting', 2: 'satire'}"
      ]
     },
     "execution_count": 86,
     "metadata": {},
     "output_type": "execute_result"
    }
   ],
   "source": [
    "id2label = {y: x for x, y in label2id.items()}\n",
    "id2label"
   ]
  },
  {
   "cell_type": "code",
   "execution_count": 87,
   "id": "816cff89",
   "metadata": {},
   "outputs": [
    {
     "name": "stdout",
     "output_type": "stream",
     "text": [
      "                                                        text predicted_label\n",
      "id                                                                          \n",
      "832926076  Trump and Melania beam as they pose for photos...         opinion\n",
      "814251296  UK Govt to Perform No Deal Brexit Dress Rehear...       reporting\n",
      "832971448  Jokes and memes about Robert Mueller's investi...          satire\n",
      "822220578  UK Labour Leader Corbyn Losing Support Over Fa...          satire\n",
      "832947852  Top 10 Propagandists Who Pushed Russia Collusi...       reporting\n",
      "...                                                      ...             ...\n",
      "830153674  Britain’s Attorney General Deals Blow to May’s...          satire\n",
      "824684605  Seven U.K. Labour Lawmakers Quit Over Jeremy C...          satire\n",
      "833053628  Confident Trump and anxious Washington wait fo...         opinion\n",
      "830359136  The Fight for Brexit\\n\\nTo see how serious the...          satire\n",
      "813552066  You insult us, ambassador: Woody Johnson flagr...         opinion\n",
      "\n",
      "[83 rows x 2 columns]\n"
     ]
    }
   ],
   "source": [
    "df2=dev_df.replace({\"predicted_label\": id2label})\n",
    "print(df2)"
   ]
  },
  {
   "cell_type": "code",
   "execution_count": 88,
   "id": "ac9ff76f",
   "metadata": {},
   "outputs": [],
   "source": [
    "#dev_df['article_id'] = dev_df.index\n",
    "dev_output=df2[['predicted_label']]"
   ]
  },
  {
   "cell_type": "code",
   "execution_count": 89,
   "id": "9a30717e",
   "metadata": {},
   "outputs": [],
   "source": [
    "dev_output.to_csv(\"outputs/en/dev_1_trans_upsampling.txt\", sep = \"\\t\", header = True)"
   ]
  },
  {
   "cell_type": "code",
   "execution_count": null,
   "id": "1c552fed",
   "metadata": {},
   "outputs": [],
   "source": [
    "#python3 st1.py -o ../outputs/en/dev_1.txt ../data/it/train-articles-subtask-1/ ../data/it/dev-articles-subtask-1/ ../data/it/train-labels-subtask-1.txt "
   ]
  },
  {
   "cell_type": "code",
   "execution_count": null,
   "id": "872f1b9d",
   "metadata": {},
   "outputs": [],
   "source": []
  }
 ],
 "metadata": {
  "kernelspec": {
   "display_name": "base",
   "language": "python",
   "name": "python3"
  },
  "language_info": {
   "codemirror_mode": {
    "name": "ipython",
    "version": 3
   },
   "file_extension": ".py",
   "mimetype": "text/x-python",
   "name": "python",
   "nbconvert_exporter": "python",
   "pygments_lexer": "ipython3",
   "version": "3.9.7 (default, Sep 16 2021, 16:59:28) [MSC v.1916 64 bit (AMD64)]"
  },
  "vscode": {
   "interpreter": {
    "hash": "e91a510f7e9a5bbc08e5eff16d59182992c6283f549a795582f8a1ff634714f4"
   }
  }
 },
 "nbformat": 4,
 "nbformat_minor": 5
}
